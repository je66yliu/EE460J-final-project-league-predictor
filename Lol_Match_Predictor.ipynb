{
 "cells": [
  {
   "cell_type": "code",
   "execution_count": 51,
   "metadata": {},
   "outputs": [],
   "source": [
    "import pandas as pd\n",
    "import numpy as np\n",
    "import seaborn as sns\n",
    "import matplotlib as mpl\n",
    "import matplotlib.pyplot as plt\n",
    "\n",
    "%matplotlib inline"
   ]
  },
  {
   "cell_type": "code",
   "execution_count": 91,
   "metadata": {},
   "outputs": [],
   "source": [
    "train = pd.read_csv('champ_encoded_timeline_data.csv')"
   ]
  },
  {
   "cell_type": "code",
   "execution_count": 92,
   "metadata": {},
   "outputs": [],
   "source": [
    "def printScores(Y_test,preds):\n",
    "    print(\"ROCAUC score:\",roc_auc_score(Y_test, preds))\n",
    "    print(\"MSE score:\",mean_squared_error(Y_test, preds))\n",
    "    print(\"R2 score:\",r2_score(Y_test, preds))\n",
    "    \n",
    "def bound(predictions,minVal=0,maxVal=1):\n",
    "    for pred in predictions:\n",
    "        if(pred > maxVal):\n",
    "            pred = maxVal\n",
    "        if(pred < minVal):\n",
    "            pred = minVal\n",
    "    return predictions"
   ]
  },
  {
   "cell_type": "code",
   "execution_count": 93,
   "metadata": {},
   "outputs": [],
   "source": [
    "from sklearn import linear_model\n",
    "from sklearn import model_selection \n",
    "from sklearn.model_selection import train_test_split, cross_val_score\n",
    "from sklearn.metrics import roc_auc_score # roc_auc_score(y_true, y_score)\n",
    "from sklearn.metrics import mean_squared_error # mean_squared_error(y_true, y_pred)\n",
    "from sklearn.metrics import r2_score # r2_score(y_true, y_pred)"
   ]
  },
  {
   "cell_type": "code",
   "execution_count": 94,
   "metadata": {},
   "outputs": [],
   "source": [
    "from sklearn.linear_model import LinearRegression, RidgeCV, LassoCV, LogisticRegressionCV"
   ]
  },
  {
   "cell_type": "code",
   "execution_count": 95,
   "metadata": {},
   "outputs": [],
   "source": [
    "from sklearn.model_selection import cross_validate\n",
    "from sklearn.model_selection import cross_val_predict\n",
    "from sklearn.ensemble import RandomForestClassifier\n",
    "from sklearn.ensemble import RandomForestRegressor\n",
    "\n",
    "import xgboost as xgb\n",
    "from xgboost import XGBRegressor, XGBClassifier, XGBRFRegressor, XGBRFClassifier"
   ]
  },
  {
   "cell_type": "code",
   "execution_count": 96,
   "metadata": {},
   "outputs": [],
   "source": [
    "from sklearn.pipeline import Pipeline\n",
    "from sklearn.model_selection import GridSearchCV\n",
    "from sklearn.impute import SimpleImputer\n",
    "import warnings\n",
    "\n",
    "warnings.simplefilter(action='ignore', category=FutureWarning) \n",
    "# This CV spouts off a huge number of deprecated method errors. "
   ]
  },
  {
   "cell_type": "code",
   "execution_count": 97,
   "metadata": {},
   "outputs": [],
   "source": [
    "from sklearn.ensemble import AdaBoostClassifier, AdaBoostRegressor, GradientBoostingClassifier, GradientBoostingRegressor\n",
    "from sklearn.neighbors import KNeighborsClassifier, KNeighborsRegressor\n",
    "from sklearn.ensemble import VotingRegressor, VotingClassifier"
   ]
  },
  {
   "cell_type": "code",
   "execution_count": 98,
   "metadata": {},
   "outputs": [],
   "source": [
    "features = ['P1-Team']\n",
    "X_train, X_test, Y_train, Y_test, idx1, idx2 = train_test_split(train.loc[:,'P1-Team':'Period'], train['Winner'], train['ID'], test_size=0.20, random_state=66)"
   ]
  },
  {
   "cell_type": "code",
   "execution_count": 99,
   "metadata": {},
   "outputs": [
    {
     "name": "stdout",
     "output_type": "stream",
     "text": [
      "ROCAUC score: 0.8205938155252102\n",
      "MSE score: 0.17346250657741175\n",
      "R2 score: 0.3024418298833892\n"
     ]
    }
   ],
   "source": [
    "params = {}\n",
    "rr = RidgeCV(alphas=[0.001, 0.005, 0.01, 0.05, 0.1, 0.5, 1, 5, 10, 50, 100]).fit(X_train, Y_train)\n",
    "rfr = RandomForestRegressor(n_estimators=50)\n",
    "gbr = GradientBoostingRegressor(n_estimators=50)\n",
    "gbc = GradientBoostingClassifier(n_estimators=50)\n",
    "xgb = XGBRegressor(objective='reg:squarederror',n_estimators=50)\n",
    "ab = AdaBoostRegressor(n_estimators=500)\n",
    "knr = KNeighborsRegressor(n_neighbors=30,weights='distance',algorithm='ball_tree')\n",
    "ereg = VotingRegressor(estimators=[#('rr', rr),\n",
    "                                   ('rfr', rfr),\n",
    "                                   ('gbr', gbr),\n",
    "                                   ('gbc', gbc),\n",
    "#                                   ('mlp',mlp),\n",
    "                                   ('ab',ab),\n",
    "#                                   ('knr',knr),\n",
    "#                                   ('gnb',gnb),\n",
    "                                   ('xgb',xgb)])\n",
    "searchCV = GridSearchCV(ereg, params, scoring='roc_auc', n_jobs=-1, cv=3)\n",
    "searchCV.fit(X_train, Y_train)  \n",
    "predictions = searchCV.predict(X_test)\n",
    "printScores(Y_test,predictions)"
   ]
  },
  {
   "cell_type": "code",
   "execution_count": 100,
   "metadata": {},
   "outputs": [],
   "source": [
    "X_train_final = train.drop(['ID','Winner'], axis=1)\n",
    "predTrain = searchCV.predict(X_train_final)\n",
    "solutionTrain = pd.DataFrame({\"ID\":train['ID'], \"Winner\":predTrain})\n",
    "solutionTrain.to_csv(\"VotingReg_MatchPredictions3.csv\", index = False)"
   ]
  },
  {
   "cell_type": "code",
   "execution_count": 101,
   "metadata": {},
   "outputs": [],
   "source": [
    "import matplotlib.pyplot as plt "
   ]
  },
  {
   "cell_type": "code",
   "execution_count": 102,
   "metadata": {},
   "outputs": [],
   "source": [
    "def plotMatchWinChance(percentages):\n",
    "    # x axis values \n",
    "    matchlength = len(percentages)\n",
    "    # corresponding y axis values \n",
    "    y = percentages\n",
    "    x = [0,10,20,30,40,50] \n",
    "    x = x[:matchlength]\n",
    "  \n",
    "    # plotting the points  \n",
    "    plt.plot(x, y) \n",
    "  \n",
    "    # naming the x axis \n",
    "    plt.xlabel('Minutes in Game') \n",
    "    # naming the y axis \n",
    "    plt.ylabel('Chance of Win') \n",
    "    plt.ylim(0,1)\n",
    "    # giving a title to my graph \n",
    "    plt.title('Win Percentage Throughout Match') \n",
    "  \n",
    "    # function to show the plot \n",
    "    plt.show() "
   ]
  },
  {
   "cell_type": "code",
   "execution_count": 103,
   "metadata": {},
   "outputs": [
    {
     "data": {
      "image/png": "[encoded data removed]",
      "text/plain": [
       "<Figure size 432x288 with 1 Axes>"
      ]
     },
     "metadata": {
      "needs_background": "light"
     },
     "output_type": "display_data"
    }
   ],
   "source": [
    "percent = [0.448324426,0.447562876,0.841533116,0.736304908]\n",
    "plotMatchWinChance(percent)"
   ]
  },
  {
   "cell_type": "code",
   "execution_count": 104,
   "metadata": {},
   "outputs": [
    {
     "data": {
      "image/png": "[encoded data removed]",
      "text/plain": [
       "<Figure size 432x288 with 1 Axes>"
      ]
     },
     "metadata": {
      "needs_background": "light"
     },
     "output_type": "display_data"
    }
   ],
   "source": [
    "percent = [0.602561177,0.531088954,0.102528711,0.1148878]\n",
    "plotMatchWinChance(percent)"
   ]
  },
  {
   "cell_type": "code",
   "execution_count": 105,
   "metadata": {},
   "outputs": [
    {
     "name": "stdout",
     "output_type": "stream",
     "text": [
      "2.0.0-alpha0\n"
     ]
    }
   ],
   "source": [
    "from __future__ import absolute_import, division, print_function\n",
    "\n",
    "# TensorFlow and tf.keras\n",
    "import tensorflow as tf\n",
    "from tensorflow import keras\n",
    "\n",
    "# Helper libraries\n",
    "import numpy as np\n",
    "import matplotlib.pyplot as plt\n",
    "\n",
    "print(tf.__version__)"
   ]
  },
  {
   "cell_type": "code",
   "execution_count": 123,
   "metadata": {},
   "outputs": [
    {
     "name": "stdout",
     "output_type": "stream",
     "text": [
      "371\n"
     ]
    }
   ],
   "source": [
    "print(len(train.loc[:,'P1-Team':'Period'].columns))\n",
    "X_train, X_test, Y_train, Y_test, idx1, idx2 = train_test_split(train.loc[:,'P1-Team':'Period'], train['Winner'], train['ID'], test_size=0.20, random_state=66)"
   ]
  },
  {
   "cell_type": "code",
   "execution_count": 124,
   "metadata": {},
   "outputs": [
    {
     "name": "stdout",
     "output_type": "stream",
     "text": [
      "Epoch 1/20\n",
      "33632/33632 [==============================] - 7s 205us/sample - loss: 28.7677 - MSE: 28.7677\n",
      "Epoch 2/20\n",
      "33632/33632 [==============================] - 6s 181us/sample - loss: 0.5216 - MSE: 0.5216\n",
      "Epoch 3/20\n",
      "33632/33632 [==============================] - 7s 194us/sample - loss: 0.3186 - MSE: 0.3186\n",
      "Epoch 4/20\n",
      "33632/33632 [==============================] - 7s 203us/sample - loss: 0.2478 - MSE: 0.2478\n",
      "Epoch 5/20\n",
      "33632/33632 [==============================] - 7s 210us/sample - loss: 0.2161 - MSE: 0.2161\n",
      "Epoch 6/20\n",
      "33632/33632 [==============================] - 7s 197us/sample - loss: 0.1939 - MSE: 0.1939\n",
      "Epoch 7/20\n",
      "33632/33632 [==============================] - 7s 194us/sample - loss: 0.1874 - MSE: 0.1874\n",
      "Epoch 8/20\n",
      "33632/33632 [==============================] - 7s 204us/sample - loss: 0.1824 - MSE: 0.1824\n",
      "Epoch 9/20\n",
      "33632/33632 [==============================] - 7s 199us/sample - loss: 0.1799 - MSE: 0.1799\n",
      "Epoch 10/20\n",
      "33632/33632 [==============================] - 7s 205us/sample - loss: 0.1772 - MSE: 0.1772\n",
      "Epoch 11/20\n",
      "33632/33632 [==============================] - 7s 212us/sample - loss: 0.1748 - MSE: 0.1748\n",
      "Epoch 12/20\n",
      "33632/33632 [==============================] - 6s 187us/sample - loss: 0.1726 - MSE: 0.1726\n",
      "Epoch 13/20\n",
      "33632/33632 [==============================] - 8s 226us/sample - loss: 0.1704 - MSE: 0.1704\n",
      "Epoch 14/20\n",
      "33632/33632 [==============================] - 8s 237us/sample - loss: 0.1697 - MSE: 0.1697\n",
      "Epoch 15/20\n",
      "33632/33632 [==============================] - 8s 226us/sample - loss: 0.1696 - MSE: 0.1696\n",
      "Epoch 16/20\n",
      "33632/33632 [==============================] - 6s 188us/sample - loss: 0.1677 - MSE: 0.1677\n",
      "Epoch 17/20\n",
      "33632/33632 [==============================] - 7s 209us/sample - loss: 0.1682 - MSE: 0.1682\n",
      "Epoch 18/20\n",
      "33632/33632 [==============================] - 7s 202us/sample - loss: 0.1684 - MSE: 0.1684\n",
      "Epoch 19/20\n",
      "33632/33632 [==============================] - 7s 200us/sample - loss: 0.1688 - MSE: 0.1688\n",
      "Epoch 20/20\n",
      "33632/33632 [==============================] - 7s 201us/sample - loss: 0.1661 - MSE: 0.1661\n",
      "14415/14415 [==============================] - 1s 67us/sample - loss: 0.1666 - MSE: 0.1666\n"
     ]
    },
    {
     "data": {
      "text/plain": [
       "[0.16656827008686997, 0.16656817]"
      ]
     },
     "execution_count": 124,
     "metadata": {},
     "output_type": "execute_result"
    }
   ],
   "source": [
    "model = tf.keras.Sequential()\n",
    "model.add(keras.layers.Dense(371, input_shape=(371 ,), activation='relu'))\n",
    "model.add(keras.layers.Dense(742, activation='relu'))\n",
    "model.add(keras.layers.Dense(371, activation='relu'))\n",
    "model.add(keras.layers.Dense(150, activation='relu'))\n",
    "model.add(keras.layers.Dense(75, activation='relu'))\n",
    "model.add(keras.layers.Dense(25, activation='relu'))\n",
    "model.add(keras.layers.Dense(1))\n",
    "model.compile(optimizer='adam',\n",
    "              loss='MSE',\n",
    "              metrics=['MSE'])\n",
    "model.fit(X_train.values, Y_train.values,  epochs=20)\n",
    "model.evaluate(X_test.values, Y_test.values)"
   ]
  },
  {
   "cell_type": "code",
   "execution_count": 125,
   "metadata": {},
   "outputs": [
    {
     "name": "stdout",
     "output_type": "stream",
     "text": [
      "[[0.4821795 ]\n",
      " [0.24970843]\n",
      " [0.07715221]\n",
      " ...\n",
      " [0.7001488 ]\n",
      " [0.5105436 ]\n",
      " [0.3690182 ]]\n",
      "ROCAUC score: 0.8381011821007726\n",
      "MSE score: 0.16656826944592829\n",
      "R2 score: 0.330166157939501\n"
     ]
    }
   ],
   "source": [
    "predictions = model.predict(X_test)\n",
    "print(predictions)\n",
    "printScores(Y_test,predictions)\n",
    "\n",
    "X_train_final = train.drop(['ID','Winner'], axis=1)\n",
    "predictions = model.predict(X_train_final)\n",
    "solutionTrain = pd.DataFrame({\"ID\":train['ID'], \"Winner\":predictions[:,0]})\n",
    "solutionTrain.to_csv(\"TF-Keras-NN-Predictions2.csv\", index = False)"
   ]
  },
  {
   "cell_type": "code",
   "execution_count": 72,
   "metadata": {},
   "outputs": [
    {
     "name": "stdout",
     "output_type": "stream",
     "text": [
      "[0.64347327 0.4442967  0.18652478 ... 0.7737882  0.43568876 0.54540056]\n"
     ]
    }
   ],
   "source": []
  }
 ],
 "metadata": {
  "kernelspec": {
   "display_name": "Python 3",
   "language": "python",
   "name": "python3"
  },
  "language_info": {
   "codemirror_mode": {
    "name": "ipython",
    "version": 3
   },
   "file_extension": ".py",
   "mimetype": "text/x-python",
   "name": "python",
   "nbconvert_exporter": "python",
   "pygments_lexer": "ipython3",
   "version": "3.7.0"
  }
 },
 "nbformat": 4,
 "nbformat_minor": 2
}
