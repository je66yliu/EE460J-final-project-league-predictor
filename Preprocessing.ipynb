{
 "cells": [
  {
   "cell_type": "code",
   "execution_count": 75,
   "metadata": {},
   "outputs": [],
   "source": [
    "import pandas as pd\n",
    "import numpy as np\n",
    "import scipy as sp\n",
    "from xgboost import XGBClassifier\n",
    "import csv\n",
    "import json\n",
    "import warnings\n",
    "warnings.simplefilter(action='ignore', category=FutureWarning)"
   ]
  },
  {
   "cell_type": "code",
   "execution_count": 76,
   "metadata": {},
   "outputs": [],
   "source": [
    "df = pd.read_csv('data/hotone_perfectmatch_timeline_data.csv')\n",
    "\n",
    "temp_id_row = df['ID']  # drop the ID row for now. Don't want to deal with off-by-one offsets\n",
    "df.drop(['ID'], axis=1, inplace=True)\n",
    "\n",
    "with open('data/champions.json', 'r') as fp:\n",
    "    champ_data = json.load(fp)"
   ]
  },
  {
   "cell_type": "code",
   "execution_count": 77,
   "metadata": {},
   "outputs": [],
   "source": [
    "champ_id_map = {}\n",
    "for champ in champ_data['data']:\n",
    "    champ_id_map[int(champ_data['data'][champ]['key'])] = champ"
   ]
  },
  {
   "cell_type": "code",
   "execution_count": 78,
   "metadata": {},
   "outputs": [],
   "source": [
    "attr = list(champ_data['data']['Aatrox']['stats'].keys())  # list of the name of attributes of each champ\n",
    "for i in range(10):\n",
    "    for j in range(len(attr)):\n",
    "        new_col = df['P{}-Champ'.format(i + 1)].apply(lambda val: champ_data['data'][champ_id_map[val]]['stats'][attr[j]])\n",
    "        df.insert((j + 1) + (38 * i), 'P{}-{}'.format(i + 1, attr[j]), new_col)\n",
    "        \n",
    "for i in range(10):\n",
    "    df.drop(['P{}-Champ'.format(i + 1)], axis=1, inplace=True)\n",
    "    \n",
    "df.insert(0, 'ID', temp_id_row)  # add back the ID row we dropped earlier"
   ]
  },
  {
   "cell_type": "code",
   "execution_count": 79,
   "metadata": {},
   "outputs": [],
   "source": [
    "df.to_csv('data/champ_encoded_timeline_data.csv', index=False)"
   ]
  },
  {
   "cell_type": "code",
   "execution_count": 80,
   "metadata": {},
   "outputs": [
    {
     "data": {
      "text/plain": [
       "(48047, 373)"
      ]
     },
     "execution_count": 80,
     "metadata": {},
     "output_type": "execute_result"
    }
   ],
   "source": [
    "df.shape"
   ]
  },
  {
   "cell_type": "code",
   "execution_count": null,
   "metadata": {},
   "outputs": [],
   "source": []
  }
 ],
 "metadata": {
  "kernelspec": {
   "display_name": "Python 3",
   "language": "python",
   "name": "python3"
  },
  "language_info": {
   "codemirror_mode": {
    "name": "ipython",
    "version": 3
   },
   "file_extension": ".py",
   "mimetype": "text/x-python",
   "name": "python",
   "nbconvert_exporter": "python",
   "pygments_lexer": "ipython3",
   "version": "3.7.4"
  },
  "pycharm": {
   "stem_cell": {
    "cell_type": "raw",
    "source": [],
    "metadata": {
     "collapsed": false
    }
   }
  }
 },
 "nbformat": 4,
 "nbformat_minor": 2
}